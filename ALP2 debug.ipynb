{
 "cells": [
  {
   "cell_type": "code",
   "execution_count": 1,
   "metadata": {
    "collapsed": true
   },
   "outputs": [],
   "source": [
    "import numpy as np\n",
    "import matplotlib.pyplot as plt\n",
    "import ALP\n",
    "import Patterns\n",
    "%matplotlib inline"
   ]
  },
  {
   "cell_type": "code",
   "execution_count": 8,
   "metadata": {
    "collapsed": false
   },
   "outputs": [
    {
     "name": "stdout",
     "output_type": "stream",
     "text": [
      "Init value: 1001\n"
     ]
    }
   ],
   "source": [
    "DMD=ALP.DMD()"
   ]
  },
  {
   "cell_type": "markdown",
   "metadata": {},
   "source": [
    "## turn on three pixels, use for alignment"
   ]
  },
  {
   "cell_type": "code",
   "execution_count": null,
   "metadata": {
    "collapsed": true
   },
   "outputs": [],
   "source": [
    "DMD.proj_mode('master')\n",
    "\n",
    "pixels=np.array([[450,300],\n",
    "          [550,275],\n",
    "          [500,430]])\n",
    "\n",
    "ptn=np.zeros((768,1024))\n",
    "\n",
    "for p in pixels:\n",
    "    ptn[p[1],p[0]]=255\n",
    "\n",
    "DMD.upload_singleptn(ptn,dur=100000)"
   ]
  },
  {
   "cell_type": "code",
   "execution_count": null,
   "metadata": {
    "collapsed": false
   },
   "outputs": [],
   "source": [
    "DMD.stop()"
   ]
  },
  {
   "cell_type": "markdown",
   "metadata": {},
   "source": [
    "## present 160 x 160 pixel square (1mm)"
   ]
  },
  {
   "cell_type": "code",
   "execution_count": 9,
   "metadata": {
    "collapsed": false
   },
   "outputs": [
    {
     "name": "stdout",
     "output_type": "stream",
     "text": [
      "100000000 0\n",
      "seq_start (loops): 0\n"
     ]
    }
   ],
   "source": [
    "ptn=np.zeros((768,1024))\n",
    "\n",
    "ptn[384-80:384+80,512-80:512+80]=255 #160x160 pixel square (1mm)\n",
    "\n",
    "DMD.upload_singleptn(ptn,dur=100000)"
   ]
  },
  {
   "cell_type": "code",
   "execution_count": 10,
   "metadata": {
    "collapsed": false
   },
   "outputs": [
    {
     "name": "stdout",
     "output_type": "stream",
     "text": [
      "seq_stop: 0\n",
      "Shutdown value: 0\n"
     ]
    }
   ],
   "source": [
    "DMD.stop()\n",
    "DMD.shutdown()"
   ]
  },
  {
   "cell_type": "code",
   "execution_count": null,
   "metadata": {
    "collapsed": true
   },
   "outputs": [],
   "source": []
  }
 ],
 "metadata": {
  "kernelspec": {
   "display_name": "Python 2",
   "language": "python",
   "name": "python2"
  },
  "language_info": {
   "codemirror_mode": {
    "name": "ipython",
    "version": 2
   },
   "file_extension": ".py",
   "mimetype": "text/x-python",
   "name": "python",
   "nbconvert_exporter": "python",
   "pygments_lexer": "ipython2",
   "version": "2.7.13"
  }
 },
 "nbformat": 4,
 "nbformat_minor": 1
}
